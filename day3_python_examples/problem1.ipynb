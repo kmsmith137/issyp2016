{
 "cells": [
  {
   "cell_type": "code",
   "execution_count": 2,
   "metadata": {
    "collapsed": false
   },
   "outputs": [
    {
     "name": "stdout",
     "output_type": "stream",
     "text": [
      "rho_tot= 4.77565540395\n",
      "rho_m = 1.48045317523\n",
      "rho_rad = 0.000198189699264\n"
     ]
    }
   ],
   "source": [
    "# This is problem 1 from \"Expansion History of the Universe and Differential Equations\"\n",
    "# (https://github.com/kmsmith137/issyp2016/blob/master/day2_problems/day2_problems_v2.pdf)\n",
    "\n",
    "pi=3.14159\n",
    "G=1.19e-4\n",
    "H0=0.069\n",
    "rho_tot = 3/(8*pi*G) * H0**2\n",
    "print 'rho_tot=', rho_tot\n",
    "\n",
    "omega_m = 0.31\n",
    "rho_m = omega_m * rho_tot\n",
    "print 'rho_m =', rho_m\n",
    "\n",
    "omega_rad = 4.15e-5\n",
    "rho_rad = omega_rad * rho_tot\n",
    "print 'rho_rad =', rho_rad"
   ]
  },
  {
   "cell_type": "code",
   "execution_count": null,
   "metadata": {
    "collapsed": true
   },
   "outputs": [],
   "source": []
  }
 ],
 "metadata": {
  "kernelspec": {
   "display_name": "Python 2",
   "language": "python",
   "name": "python2"
  },
  "language_info": {
   "codemirror_mode": {
    "name": "ipython",
    "version": 2
   },
   "file_extension": ".py",
   "mimetype": "text/x-python",
   "name": "python",
   "nbconvert_exporter": "python",
   "pygments_lexer": "ipython2",
   "version": "2.7.11"
  },
  "widgets": {
   "state": {},
   "version": "1.1.2"
  }
 },
 "nbformat": 4,
 "nbformat_minor": 0
}
