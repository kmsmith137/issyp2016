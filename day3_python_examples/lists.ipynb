{
 "cells": [
  {
   "cell_type": "code",
   "execution_count": 1,
   "metadata": {
    "collapsed": false
   },
   "outputs": [
    {
     "name": "stdout",
     "output_type": "stream",
     "text": [
      "list1 = [1, 2, 3]\n",
      "list2 = ['hello', 'everyone']\n",
      "list3 = []\n"
     ]
    }
   ],
   "source": [
    "# Lists in python are delimited with square brackets and can be composed of any type \n",
    "# (strings, integers, floating-point numbers, or even another list).\n",
    "\n",
    "list1 = [1,2,3]   # list of integers\n",
    "list2 = ['hello','everyone']   # list of strings\n",
    "list3 = [ ]   # empty list\n",
    "\n",
    "print 'list1 =', list1\n",
    "print 'list2 =', list2\n",
    "print 'list3 =', list3"
   ]
  },
  {
   "cell_type": "code",
   "execution_count": 2,
   "metadata": {
    "collapsed": false
   },
   "outputs": [
    {
     "name": "stdout",
     "output_type": "stream",
     "text": [
      "before append: list1 = [1, 2, 3]\n",
      "after append: list1 = [1, 2, 3, 4]\n"
     ]
    }
   ],
   "source": [
    "# The syntax x.append(y), where x is a list and y is an element to be added,\n",
    "# is one way to build up a list\n",
    "\n",
    "print 'before append: list1 =', list1\n",
    "list1.append(4)\n",
    "\n",
    "print 'after append: list1 =', list1"
   ]
  },
  {
   "cell_type": "code",
   "execution_count": 3,
   "metadata": {
    "collapsed": false
   },
   "outputs": [
    {
     "name": "stdout",
     "output_type": "stream",
     "text": [
      "[0, 1, 2, 3, 4, 5, 6, 7, 8, 9, 10, 11, 12, 13, 14, 15, 16, 17, 18, 19, 20, 21, 22, 23, 24, 25, 26, 27, 28, 29, 30, 31, 32, 33, 34, 35, 36, 37, 38, 39, 40, 41, 42, 43, 44, 45, 46, 47, 48, 49, 50, 51, 52, 53, 54, 55, 56, 57, 58, 59, 60, 61, 62, 63, 64, 65, 66, 67, 68, 69, 70, 71, 72, 73, 74, 75, 76, 77, 78, 79, 80, 81, 82, 83, 84, 85, 86, 87, 88, 89, 90, 91, 92, 93, 94, 95, 96, 97, 98, 99]\n"
     ]
    }
   ],
   "source": [
    "# append() can be called inside a loop to build up a list algorithmically\n",
    "# Let's make a list of the first 100 numbers [0,1,...,99].\n",
    "\n",
    "\n",
    "n = 0\n",
    "result = []\n",
    "\n",
    "while n < 100:\n",
    "    result.append(n)\n",
    "    n += 1\n",
    "    \n",
    "print result"
   ]
  },
  {
   "cell_type": "code",
   "execution_count": null,
   "metadata": {
    "collapsed": true
   },
   "outputs": [],
   "source": [
    "# A little more list syntax: len() returns the length of a list.\n",
    "# The syntax x[i], where x is a list, and i is an integer, returns the i-th element\n",
    "\n",
    "# List indices are zero-based, i.e. x[0] is the first element of the list (not x[1])\n",
    "# and x[len(x)-1] (not x[len(x)]) is the last element\n",
    "\n",
    "print 'len(result) =', len(result)\n",
    "print 'result[0] =', "
   ]
  }
 ],
 "metadata": {
  "kernelspec": {
   "display_name": "Python 2",
   "language": "python",
   "name": "python2"
  },
  "language_info": {
   "codemirror_mode": {
    "name": "ipython",
    "version": 2
   },
   "file_extension": ".py",
   "mimetype": "text/x-python",
   "name": "python",
   "nbconvert_exporter": "python",
   "pygments_lexer": "ipython2",
   "version": "2.7.10"
  }
 },
 "nbformat": 4,
 "nbformat_minor": 0
}
