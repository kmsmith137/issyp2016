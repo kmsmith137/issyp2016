{
 "cells": [
  {
   "cell_type": "code",
   "execution_count": 2,
   "metadata": {
    "collapsed": false
   },
   "outputs": [
    {
     "name": "stdout",
     "output_type": "stream",
     "text": [
      "[1, 4, 9, 16, 25, 36, 49, 64, 81, 100]\n"
     ]
    }
   ],
   "source": [
    "# Let's make a list containing the first 10 squares: [1,4,9,...,100]\n",
    "\n",
    "n = 1\n",
    "result = [ ]   # initialize to empty list\n",
    "\n",
    "while n < 11:\n",
    "    result.append(n**2)\n",
    "    n = n+1\n",
    "    \n",
    "print result"
   ]
  },
  {
   "cell_type": "code",
   "execution_count": 3,
   "metadata": {
    "collapsed": false
   },
   "outputs": [
    {
     "name": "stdout",
     "output_type": "stream",
     "text": [
      "The value of list1 is [0, 1, 2, 3, 4, 5, 6, 7, 8, 9]\n",
      "The value of list2 is [0, 1, 4, 9, 16, 25, 36, 49, 64, 81]\n"
     ]
    }
   ],
   "source": [
    "# Let's make two lists, one containing values of n and one containing n**2\n",
    "\n",
    "n = 0\n",
    "list1 = [ ]\n",
    "list2 = [ ]\n",
    "\n",
    "while n < 10:\n",
    "    list1.append(n)\n",
    "    list2.append(n**2)\n",
    "    n = n+1\n",
    "    \n",
    "print 'The value of list1 is', list1\n",
    "print 'The value of list2 is', list2"
   ]
  },
  {
   "cell_type": "code",
   "execution_count": 4,
   "metadata": {
    "collapsed": false
   },
   "outputs": [
    {
     "name": "stderr",
     "output_type": "stream",
     "text": [
      "/opt/conda/envs/python2/lib/python2.7/site-packages/matplotlib/font_manager.py:273: UserWarning: Matplotlib is building the font cache using fc-list. This may take a moment.\n",
      "  warnings.warn('Matplotlib is building the font cache using fc-list. This may take a moment.')\n"
     ]
    }
   ],
   "source": [
    "# Let's plot these points!\n",
    "# This is intended to illustrate the matplotlib syntax for plotting\n",
    "\n",
    "# These two lines import a plotting module; they only need to appear once per notebook\n",
    "%matplotlib inline\n",
    "import matplotlib.pyplot as plt"
   ]
  },
  {
   "cell_type": "code",
   "execution_count": 6,
   "metadata": {
    "collapsed": false
   },
   "outputs": [
    {
     "data": {
      "text/plain": [
       "[<matplotlib.lines.Line2D at 0x7f54315553d0>]"
      ]
     },
     "execution_count": 6,
     "metadata": {},
     "output_type": "execute_result"
    },
    {
     "data": {
      "image/png": "[encoded data removed]",
      "text/plain": [
       "<matplotlib.figure.Figure at 0x7f54564e5f50>"
      ]
     },
     "metadata": {},
     "output_type": "display_data"
    }
   ],
   "source": [
    "# The syntax for plotting is plt.plot(xlist, ylist)\n",
    "# where 'xlist' and 'ylist' are lists of equal length\n",
    "# containing x-value and y-values respectively.  When\n",
    "# we plot the above points, the result looks like the\n",
    "# parabola y=x^2\n",
    "\n",
    "plt.plot(list1,list2)"
   ]
  },
  {
   "cell_type": "code",
   "execution_count": null,
   "metadata": {
    "collapsed": true
   },
   "outputs": [],
   "source": []
  }
 ],
 "metadata": {
  "kernelspec": {
   "display_name": "Python 2",
   "language": "python",
   "name": "python2"
  },
  "language_info": {
   "codemirror_mode": {
    "name": "ipython",
    "version": 2
   },
   "file_extension": ".py",
   "mimetype": "text/x-python",
   "name": "python",
   "nbconvert_exporter": "python",
   "pygments_lexer": "ipython2",
   "version": "2.7.11"
  },
  "widgets": {
   "state": {},
   "version": "1.1.2"
  }
 },
 "nbformat": 4,
 "nbformat_minor": 0
}
