{
 "cells": [
  {
   "cell_type": "markdown",
   "metadata": {},
   "source": [
    "Let's integrate the following system of differential equations\n",
    "\n",
    "dx/dt = v\n",
    "\n",
    "dv/dt = 5(10-x)\n",
    "\n",
    "starting from the initial conditions x=13 and v=0."
   ]
  },
  {
   "cell_type": "code",
   "execution_count": 3,
   "metadata": {
    "collapsed": true
   },
   "outputs": [],
   "source": [
    "# We'll build up tables of t,x,v values by stepping forward in time.  \n",
    "# First, initialize the tables to empty lists.\n",
    "\n",
    "t_table = []\n",
    "x_table = []\n",
    "v_table = []\n",
    "\n",
    "# The variables t,x,v will keep track of the current values of time,position,velocity \n",
    "# as we evolve the equations.  First we initialize them to starting values which are \n",
    "# determined by the initial conditions of the differential equation.\n",
    "\n",
    "t = 0.0\n",
    "x = 13.0\n",
    "v = 0.0\n",
    "\n",
    "# Now let's evolve the differential equations forward in time, to t=10 (say).\n",
    "#\n",
    "# We use a step size dt=0.01.  Choosing a proper step size can be tricky and sometimes\n",
    "# requires trial-and-error experimentation.  If the step size is chosen too large, then\n",
    "# the differential equations will be integrated inaccurately and the solution will look\n",
    "# \"jagged\".  If the step size is chosen too small, then many steps will be needed and\n",
    "# the calculation will take a long time (or crash the computer).\n",
    "#\n",
    "# In the following 'while' loop, the value of t will be increased by dt=0.01 in every\n",
    "# iteration, and the loop exits when the value of t reaches 10.\n",
    "\n",
    "while t <= 10.0:\n",
    "    # Append the current values of t,x,v to the tables\n",
    "    t_table.append(t)\n",
    "    x_table.append(x)\n",
    "    v_table.append(v)\n",
    "    \n",
    "    # Compute dx/dt and dv/dt from the differential equations\n",
    "    dx_dt = v\n",
    "    dv_dt = 5.*(10.-x)\n",
    "    \n",
    "    # Now update the values of t,x,v and \n",
    "    dt = 0.01             # step size\n",
    "    t = t + dt            # t advances by \"dt\"\n",
    "    x = x + dx_dt * dt    # x advances by its rate (dx/dt) times \"dt\"\n",
    "    v = v + dv_dt * dt    # likewise for v\n",
    "    \n"
   ]
  },
  {
   "cell_type": "code",
   "execution_count": 16,
   "metadata": {
    "collapsed": false
   },
   "outputs": [
    {
     "name": "stdout",
     "output_type": "stream",
     "text": [
      "0.0\n",
      "13.0\n",
      "0.0\n"
     ]
    }
   ],
   "source": [
    "# After running the program above, the tables t_table, x_table, v_table will\n",
    "# be populated with the solution to the differential equations.\n",
    "# Let's print a few entries in the table, just to check that it worked!\n",
    "print t_table[0]\n",
    "print x_table[0]\n",
    "print v_table[0]"
   ]
  },
  {
   "cell_type": "code",
   "execution_count": 8,
   "metadata": {
    "collapsed": false
   },
   "outputs": [
    {
     "name": "stdout",
     "output_type": "stream",
     "text": [
      "1.0\n",
      "8.10221595712\n",
      "-5.41282614081\n"
     ]
    }
   ],
   "source": [
    "print t_table[100]\n",
    "print x_table[100]\n",
    "print v_table[100]"
   ]
  },
  {
   "cell_type": "code",
   "execution_count": 9,
   "metadata": {
    "collapsed": false
   },
   "outputs": [
    {
     "name": "stderr",
     "output_type": "stream",
     "text": [
      "/opt/conda/envs/python2/lib/python2.7/site-packages/matplotlib/font_manager.py:273: UserWarning: Matplotlib is building the font cache using fc-list. This may take a moment.\n",
      "  warnings.warn('Matplotlib is building the font cache using fc-list. This may take a moment.')\n"
     ]
    }
   ],
   "source": [
    "# These commands only need to be included once per notebook.\n",
    "%matplotlib inline\n",
    "import matplotlib.pyplot as plt"
   ]
  },
  {
   "cell_type": "code",
   "execution_count": 13,
   "metadata": {
    "collapsed": false
   },
   "outputs": [
    {
     "data": {
      "text/plain": [
       "[<matplotlib.lines.Line2D at 0x7f8ba11a13d0>]"
      ]
     },
     "execution_count": 13,
     "metadata": {},
     "output_type": "execute_result"
    },
    {
     "data": {
      "image/png": "[encoded data removed]",
      "text/plain": [
       "<matplotlib.figure.Figure at 0x7f8ba1234510>"
      ]
     },
     "metadata": {},
     "output_type": "display_data"
    }
   ],
   "source": [
    "# Plot x versus t.\n",
    "# Note that the amplitude of the oscillation appears to be increasing in the plot.\n",
    "# This is incorrect since the true solution to the differential equation is a sinusoid.\n",
    "# This is actually just an artifact of the numerical integration, and one could see this\n",
    "# by rerunning with a smaller step size dt.\n",
    "\n",
    "plt.plot(t_table, x_table)"
   ]
  },
  {
   "cell_type": "code",
   "execution_count": 15,
   "metadata": {
    "collapsed": false
   },
   "outputs": [
    {
     "data": {
      "text/plain": [
       "[<matplotlib.lines.Line2D at 0x7f8ba0ffb910>]"
      ]
     },
     "execution_count": 15,
     "metadata": {},
     "output_type": "execute_result"
    },
    {
     "data": {
      "image/png": "[encoded data removed]",
      "text/plain": [
       "<matplotlib.figure.Figure at 0x7f8ba1109fd0>"
      ]
     },
     "metadata": {},
     "output_type": "display_data"
    }
   ],
   "source": [
    "# Plot v versus t.\n",
    "\n",
    "plt.plot(t_table, v_table)"
   ]
  },
  {
   "cell_type": "code",
   "execution_count": null,
   "metadata": {
    "collapsed": true
   },
   "outputs": [],
   "source": []
  }
 ],
 "metadata": {
  "kernelspec": {
   "display_name": "Python 2",
   "language": "python",
   "name": "python2"
  },
  "language_info": {
   "codemirror_mode": {
    "name": "ipython",
    "version": 2
   },
   "file_extension": ".py",
   "mimetype": "text/x-python",
   "name": "python",
   "nbconvert_exporter": "python",
   "pygments_lexer": "ipython2",
   "version": "2.7.11"
  },
  "widgets": {
   "state": {},
   "version": "1.1.2"
  }
 },
 "nbformat": 4,
 "nbformat_minor": 0
}
