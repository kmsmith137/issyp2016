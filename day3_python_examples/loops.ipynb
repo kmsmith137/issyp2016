{
 "cells": [
  {
   "cell_type": "code",
   "execution_count": 3,
   "metadata": {
    "collapsed": false
   },
   "outputs": [
    {
     "name": "stdout",
     "output_type": "stream",
     "text": [
      "Hello\n",
      "Hello\n",
      "Hello\n",
      "Hello\n",
      "Hello\n",
      "Hello\n",
      "Hello\n",
      "Hello\n",
      "Hello\n",
      "Hello\n"
     ]
    }
   ],
   "source": [
    "i = 0\n",
    "while i < 10:\n",
    "    print 'Hello'\n",
    "    i = i + 1"
   ]
  },
  {
   "cell_type": "code",
   "execution_count": 4,
   "metadata": {
    "collapsed": false
   },
   "outputs": [
    {
     "name": "stdout",
     "output_type": "stream",
     "text": [
      "Hello number 0\n",
      "Hello number 1\n",
      "Hello number 2\n",
      "Hello number 3\n",
      "Hello number 4\n",
      "Hello number 5\n",
      "Hello number 6\n",
      "Hello number 7\n",
      "Hello number 8\n",
      "Hello number 9\n"
     ]
    }
   ],
   "source": [
    "i = 0\n",
    "while i < 10:\n",
    "    print 'Hello number', i\n",
    "    i = i + 1"
   ]
  },
  {
   "cell_type": "code",
   "execution_count": 5,
   "metadata": {
    "collapsed": false
   },
   "outputs": [
    {
     "name": "stdout",
     "output_type": "stream",
     "text": [
      "The square of 0.05 is 0.0025\n",
      "The square of 0.15 is 0.0225\n",
      "The square of 0.25 is 0.0625\n",
      "The square of 0.35 is 0.1225\n",
      "The square of 0.45 is 0.2025\n",
      "The square of 0.55 is 0.3025\n",
      "The square of 0.65 is 0.4225\n",
      "The square of 0.75 is 0.5625\n",
      "The square of 0.85 is 0.7225\n",
      "The square of 0.95 is 0.9025\n"
     ]
    }
   ],
   "source": [
    "t = 0.05\n",
    "while t < 1.0:\n",
    "    print 'The square of', t, 'is', t**2\n",
    "    t = t + 0.1"
   ]
  },
  {
   "cell_type": "code",
   "execution_count": 7,
   "metadata": {
    "collapsed": false
   },
   "outputs": [
    {
     "name": "stdout",
     "output_type": "stream",
     "text": [
      "The sum of the integers from 1 to 10 is:  55\n"
     ]
    }
   ],
   "source": [
    "# Let's sum the integers from 1 to 10\n",
    "\n",
    "result = 0\n",
    "max_n = 10\n",
    "\n",
    "n = 1\n",
    "while n <= max_n:\n",
    "    result = result + n\n",
    "    n = n + 1\n",
    "\n",
    "print 'The sum of the integers from 1 to', max_n, 'is: ', result"
   ]
  },
  {
   "cell_type": "code",
   "execution_count": null,
   "metadata": {
    "collapsed": true
   },
   "outputs": [],
   "source": []
  }
 ],
 "metadata": {
  "kernelspec": {
   "display_name": "Python 2",
   "language": "python",
   "name": "python2"
  },
  "language_info": {
   "codemirror_mode": {
    "name": "ipython",
    "version": 2
   },
   "file_extension": ".py",
   "mimetype": "text/x-python",
   "name": "python",
   "nbconvert_exporter": "python",
   "pygments_lexer": "ipython2",
   "version": "2.7.11"
  },
  "widgets": {
   "state": {},
   "version": "1.1.2"
  }
 },
 "nbformat": 4,
 "nbformat_minor": 0
}
